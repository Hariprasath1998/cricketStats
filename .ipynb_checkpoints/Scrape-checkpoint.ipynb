{
 "cells": [
  {
   "cell_type": "code",
   "execution_count": 1,
   "id": "75dcc23b",
   "metadata": {},
   "outputs": [],
   "source": [
    "import requests\n",
    "from bs4 import BeautifulSoup\n",
    "import pandas as pd"
   ]
  },
  {
   "cell_type": "code",
   "execution_count": 2,
   "id": "16c53fea",
   "metadata": {},
   "outputs": [],
   "source": [
    "cric = 'https://www.cricbuzz.com/cricket-stats/player/1413/virat-kohli'\n",
    "r = requests.get(cric)\n",
    "soup = BeautifulSoup(r.content, 'html5lib')"
   ]
  },
  {
   "cell_type": "code",
   "execution_count": 24,
   "id": "41003dbc",
   "metadata": {},
   "outputs": [],
   "source": [
    "def readTable(table, index):\n",
    "    thead = table[0].find('thead')\n",
    "\n",
    "    thead = thead.findAll('th')\n",
    "    tbody = table[0].find('tbody')\n",
    "    \n",
    "    stats = []\n",
    "    header = []\n",
    "    \n",
    "    for th in thead:\n",
    "        if 'title' in th.attrs:\n",
    "            header.append(th['title'])\n",
    "        else:\n",
    "            header.append('')\n",
    "\n",
    "    stats.append(header)\n",
    "    \n",
    "    tablerows = tbody.find_all('tr')\n",
    "    \n",
    "    for tablerow in tablerows:\n",
    "        row = []\n",
    "        for td in tablerow.find_all('td'):\n",
    "            row.append(td.text)\n",
    "        stats.append(row)\n",
    "    \n",
    "    return stats"
   ]
  },
  {
   "cell_type": "code",
   "execution_count": 29,
   "id": "5197b72a",
   "metadata": {},
   "outputs": [],
   "source": [
    "def getPlayerStats(URL):\n",
    "    r = requests.get(cric)\n",
    "    soup = BeautifulSoup(r.content, 'html5lib')\n",
    "    table = soup.find_all('table')\n",
    "    \n",
    "    playerName = soup.find('h1', attrs={'itemprop':'name'}).text\n",
    "    \n",
    "    battingStats = readTable(table, 0)\n",
    "    bowlingStats = readTable(table, 1)\n",
    "    \n",
    "    player = {\n",
    "        'Name' : playerName,\n",
    "        'Batting' : battingStats,\n",
    "        'Bowling' : bowlingStats\n",
    "    }\n",
    "    \n",
    "    return player"
   ]
  },
  {
   "cell_type": "code",
   "execution_count": 42,
   "id": "001b96f3",
   "metadata": {},
   "outputs": [],
   "source": [
    "def dumpCSV(player):\n",
    "    battingDF = pd.DataFrame(player['Batting'])\n",
    "    bowlingDF = pd.DataFrame(player['Bowling'])\n",
    "    battingDF.to_csv('/Data/' + player['Name'] + ' Batting Summary.csv')\n",
    "    bowlingDF.to_csv('/Data/' + player['Name'] + ' Bowling Summary.csv')"
   ]
  },
  {
   "cell_type": "code",
   "execution_count": 35,
   "id": "ad9cf28a",
   "metadata": {},
   "outputs": [],
   "source": [
    "p = getPlayerStats(cric)"
   ]
  },
  {
   "cell_type": "code",
   "execution_count": 43,
   "id": "67cc9728",
   "metadata": {},
   "outputs": [],
   "source": [
    "dumpCSV(p)"
   ]
  },
  {
   "cell_type": "code",
   "execution_count": 3,
   "id": "d83f195c",
   "metadata": {},
   "outputs": [],
   "source": [
    "table = soup.find_all('table')"
   ]
  },
  {
   "cell_type": "code",
   "execution_count": 104,
   "id": "8509836d",
   "metadata": {},
   "outputs": [],
   "source": [
    "thead = table[0].find('thead')"
   ]
  },
  {
   "cell_type": "code",
   "execution_count": 36,
   "id": "1ac58b11",
   "metadata": {},
   "outputs": [],
   "source": [
    "thead = thead.findAll('th')"
   ]
  },
  {
   "cell_type": "code",
   "execution_count": 64,
   "id": "c66edf43",
   "metadata": {},
   "outputs": [],
   "source": [
    "battingTable = []\n",
    "header = []\n",
    "for th in thead:\n",
    "    if 'title' in th.attrs:\n",
    "        header.append(th['title'])\n",
    "    else:\n",
    "        header.append('')\n",
    "        \n",
    "battingTable.append(header)"
   ]
  },
  {
   "cell_type": "code",
   "execution_count": 66,
   "id": "0366dd9a",
   "metadata": {},
   "outputs": [],
   "source": [
    "tbody = table[0].find('tbody')"
   ]
  },
  {
   "cell_type": "code",
   "execution_count": 88,
   "id": "44b55599",
   "metadata": {},
   "outputs": [],
   "source": [
    "tablerows = tbody.find_all('tr')"
   ]
  },
  {
   "cell_type": "code",
   "execution_count": 89,
   "id": "8b6154c4",
   "metadata": {},
   "outputs": [
    {
     "name": "stdout",
     "output_type": "stream",
     "text": [
      "<tr>\n",
      " <td class=\"cb-col-8\">\n",
      "  <strong>\n",
      "   Test\n",
      "  </strong>\n",
      " </td>\n",
      " <td class=\"cb-plyr-tbody text-right\">\n",
      "  95\n",
      " </td>\n",
      " <td class=\"text-right\">\n",
      "  160\n",
      " </td>\n",
      " <td class=\"text-right\">\n",
      "  10\n",
      " </td>\n",
      " <td class=\"text-right\">\n",
      "  7671\n",
      " </td>\n",
      " <td class=\"text-right\">\n",
      "  254\n",
      " </td>\n",
      " <td class=\"text-right\">\n",
      "  51.14\n",
      " </td>\n",
      " <td class=\"text-right\">\n",
      "  13550\n",
      " </td>\n",
      " <td class=\"text-right\">\n",
      "  56.61\n",
      " </td>\n",
      " <td class=\"text-right\">\n",
      "  27\n",
      " </td>\n",
      " <td class=\"text-right\">\n",
      "  7\n",
      " </td>\n",
      " <td class=\"text-right\">\n",
      "  26\n",
      " </td>\n",
      " <td class=\"text-right\">\n",
      "  856\n",
      " </td>\n",
      " <td class=\"text-right\">\n",
      "  22\n",
      " </td>\n",
      "</tr>\n",
      "\n"
     ]
    }
   ],
   "source": [
    "print(tablerows[0].prettify())"
   ]
  },
  {
   "cell_type": "code",
   "execution_count": 93,
   "id": "59a0df4b",
   "metadata": {},
   "outputs": [],
   "source": [
    "for tablerow in tablerows:\n",
    "    row = []\n",
    "    for td in tablerow.find_all('td'):\n",
    "        row.append(td.text)\n",
    "    battingTable.append(row)"
   ]
  },
  {
   "cell_type": "code",
   "execution_count": 95,
   "id": "5d3eb6e1",
   "metadata": {},
   "outputs": [
    {
     "name": "stdout",
     "output_type": "stream",
     "text": [
      "[['', 'Matches Played', 'No of Innings Batted', 'No of Not Outs', 'No of Runs Scored', 'Highest Score', 'Batting Average', 'No of Balls Faced', 'Batting Strike Rate', 'No of 100s Scored', 'No of 200s Scored', 'No of 50s Scored', 'No of fours hit', 'No of sixes hit'], ['Test', '95', '160', '10', '7671', '254', '51.14', '13550', '56.61', '27', '7', '26', '856', '22'], ['ODI', '254', '245', '39', '12169', '183', '59.07', '13061', '93.17', '43', '0', '62', '1140', '126'], ['T20I', '89', '84', '24', '3159', '94', '52.65', '2272', '139.04', '0', '0', '28', '285', '90'], ['IPL', '199', '191', '31', '6076', '113', '37.98', '4659', '130.41', '5', '0', '40', '524', '205']]\n"
     ]
    }
   ],
   "source": [
    "print(battingTable)"
   ]
  },
  {
   "cell_type": "code",
   "execution_count": 96,
   "id": "0f5bed7c",
   "metadata": {},
   "outputs": [],
   "source": [
    "df = pd.DataFrame(battingTable)"
   ]
  },
  {
   "cell_type": "code",
   "execution_count": 97,
   "id": "7de9f93c",
   "metadata": {},
   "outputs": [
    {
     "data": {
      "text/html": [
       "<div>\n",
       "<style scoped>\n",
       "    .dataframe tbody tr th:only-of-type {\n",
       "        vertical-align: middle;\n",
       "    }\n",
       "\n",
       "    .dataframe tbody tr th {\n",
       "        vertical-align: top;\n",
       "    }\n",
       "\n",
       "    .dataframe thead th {\n",
       "        text-align: right;\n",
       "    }\n",
       "</style>\n",
       "<table border=\"1\" class=\"dataframe\">\n",
       "  <thead>\n",
       "    <tr style=\"text-align: right;\">\n",
       "      <th></th>\n",
       "      <th>0</th>\n",
       "      <th>1</th>\n",
       "      <th>2</th>\n",
       "      <th>3</th>\n",
       "      <th>4</th>\n",
       "      <th>5</th>\n",
       "      <th>6</th>\n",
       "      <th>7</th>\n",
       "      <th>8</th>\n",
       "      <th>9</th>\n",
       "      <th>10</th>\n",
       "      <th>11</th>\n",
       "      <th>12</th>\n",
       "      <th>13</th>\n",
       "    </tr>\n",
       "  </thead>\n",
       "  <tbody>\n",
       "    <tr>\n",
       "      <th>0</th>\n",
       "      <td></td>\n",
       "      <td>Matches Played</td>\n",
       "      <td>No of Innings Batted</td>\n",
       "      <td>No of Not Outs</td>\n",
       "      <td>No of Runs Scored</td>\n",
       "      <td>Highest Score</td>\n",
       "      <td>Batting Average</td>\n",
       "      <td>No of Balls Faced</td>\n",
       "      <td>Batting Strike Rate</td>\n",
       "      <td>No of 100s Scored</td>\n",
       "      <td>No of 200s Scored</td>\n",
       "      <td>No of 50s Scored</td>\n",
       "      <td>No of fours hit</td>\n",
       "      <td>No of sixes hit</td>\n",
       "    </tr>\n",
       "    <tr>\n",
       "      <th>1</th>\n",
       "      <td>Test</td>\n",
       "      <td>95</td>\n",
       "      <td>160</td>\n",
       "      <td>10</td>\n",
       "      <td>7671</td>\n",
       "      <td>254</td>\n",
       "      <td>51.14</td>\n",
       "      <td>13550</td>\n",
       "      <td>56.61</td>\n",
       "      <td>27</td>\n",
       "      <td>7</td>\n",
       "      <td>26</td>\n",
       "      <td>856</td>\n",
       "      <td>22</td>\n",
       "    </tr>\n",
       "    <tr>\n",
       "      <th>2</th>\n",
       "      <td>ODI</td>\n",
       "      <td>254</td>\n",
       "      <td>245</td>\n",
       "      <td>39</td>\n",
       "      <td>12169</td>\n",
       "      <td>183</td>\n",
       "      <td>59.07</td>\n",
       "      <td>13061</td>\n",
       "      <td>93.17</td>\n",
       "      <td>43</td>\n",
       "      <td>0</td>\n",
       "      <td>62</td>\n",
       "      <td>1140</td>\n",
       "      <td>126</td>\n",
       "    </tr>\n",
       "    <tr>\n",
       "      <th>3</th>\n",
       "      <td>T20I</td>\n",
       "      <td>89</td>\n",
       "      <td>84</td>\n",
       "      <td>24</td>\n",
       "      <td>3159</td>\n",
       "      <td>94</td>\n",
       "      <td>52.65</td>\n",
       "      <td>2272</td>\n",
       "      <td>139.04</td>\n",
       "      <td>0</td>\n",
       "      <td>0</td>\n",
       "      <td>28</td>\n",
       "      <td>285</td>\n",
       "      <td>90</td>\n",
       "    </tr>\n",
       "    <tr>\n",
       "      <th>4</th>\n",
       "      <td>IPL</td>\n",
       "      <td>199</td>\n",
       "      <td>191</td>\n",
       "      <td>31</td>\n",
       "      <td>6076</td>\n",
       "      <td>113</td>\n",
       "      <td>37.98</td>\n",
       "      <td>4659</td>\n",
       "      <td>130.41</td>\n",
       "      <td>5</td>\n",
       "      <td>0</td>\n",
       "      <td>40</td>\n",
       "      <td>524</td>\n",
       "      <td>205</td>\n",
       "    </tr>\n",
       "  </tbody>\n",
       "</table>\n",
       "</div>"
      ],
      "text/plain": [
       "     0               1                     2               3   \\\n",
       "0        Matches Played  No of Innings Batted  No of Not Outs   \n",
       "1  Test              95                   160              10   \n",
       "2   ODI             254                   245              39   \n",
       "3  T20I              89                    84              24   \n",
       "4   IPL             199                   191              31   \n",
       "\n",
       "                  4              5                6                  7   \\\n",
       "0  No of Runs Scored  Highest Score  Batting Average  No of Balls Faced   \n",
       "1               7671            254            51.14              13550   \n",
       "2              12169            183            59.07              13061   \n",
       "3               3159             94            52.65               2272   \n",
       "4               6076            113            37.98               4659   \n",
       "\n",
       "                    8                  9                  10  \\\n",
       "0  Batting Strike Rate  No of 100s Scored  No of 200s Scored   \n",
       "1                56.61                 27                  7   \n",
       "2                93.17                 43                  0   \n",
       "3               139.04                  0                  0   \n",
       "4               130.41                  5                  0   \n",
       "\n",
       "                 11               12               13  \n",
       "0  No of 50s Scored  No of fours hit  No of sixes hit  \n",
       "1                26              856               22  \n",
       "2                62             1140              126  \n",
       "3                28              285               90  \n",
       "4                40              524              205  "
      ]
     },
     "execution_count": 97,
     "metadata": {},
     "output_type": "execute_result"
    }
   ],
   "source": [
    "df"
   ]
  },
  {
   "cell_type": "code",
   "execution_count": 100,
   "id": "79034fab",
   "metadata": {},
   "outputs": [],
   "source": [
    "df.to_csv('Kohli Batting.csv')"
   ]
  }
 ],
 "metadata": {
  "kernelspec": {
   "display_name": "Python 3",
   "language": "python",
   "name": "python3"
  },
  "language_info": {
   "codemirror_mode": {
    "name": "ipython",
    "version": 3
   },
   "file_extension": ".py",
   "mimetype": "text/x-python",
   "name": "python",
   "nbconvert_exporter": "python",
   "pygments_lexer": "ipython3",
   "version": "3.9.6"
  }
 },
 "nbformat": 4,
 "nbformat_minor": 5
}
