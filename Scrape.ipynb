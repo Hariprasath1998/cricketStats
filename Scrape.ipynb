{
 "cells": [
  {
   "cell_type": "code",
   "execution_count": 4,
   "id": "1eec058b",
   "metadata": {},
   "outputs": [],
   "source": [
    "import requests\n",
    "from bs4 import BeautifulSoup\n",
    "import pandas as pd"
   ]
  },
  {
   "cell_type": "code",
   "execution_count": 5,
   "id": "c63c5b46",
   "metadata": {},
   "outputs": [],
   "source": [
    "def readTable(table, index):\n",
    "    thead = table[index].find('thead')\n",
    "\n",
    "    thead = thead.findAll('th')\n",
    "    tbody = table[index].find('tbody')\n",
    "    \n",
    "    stats = []\n",
    "    header = []\n",
    "    \n",
    "    for th in thead:\n",
    "        if 'title' in th.attrs:\n",
    "            header.append(th['title'])\n",
    "        else:\n",
    "            header.append('')\n",
    "\n",
    "    stats.append(header)\n",
    "    \n",
    "    tablerows = tbody.find_all('tr')\n",
    "    \n",
    "    for tablerow in tablerows:\n",
    "        row = []\n",
    "        for td in tablerow.find_all('td'):\n",
    "            row.append(td.text)\n",
    "        stats.append(row)\n",
    "    \n",
    "    return stats"
   ]
  },
  {
   "cell_type": "code",
   "execution_count": 6,
   "id": "542f0a17",
   "metadata": {},
   "outputs": [],
   "source": [
    "def getPlayerStats(URL):\n",
    "    r = requests.get(URL)\n",
    "    soup = BeautifulSoup(r.content, 'html5lib')\n",
    "    table = soup.find_all('table')\n",
    "    \n",
    "    playerName = soup.find('h1', attrs={'itemprop':'name'}).text\n",
    "    \n",
    "    battingStats = readTable(table, 0)\n",
    "    bowlingStats = readTable(table, 1)\n",
    "    \n",
    "    player = {\n",
    "        'Name' : playerName,\n",
    "        'Batting' : battingStats,\n",
    "        'Bowling' : bowlingStats\n",
    "    }\n",
    "    print(player)\n",
    "    return player"
   ]
  },
  {
   "cell_type": "code",
   "execution_count": 7,
   "id": "1e84980f",
   "metadata": {},
   "outputs": [],
   "source": [
    "def dumpCSV(player):\n",
    "    battingDF = pd.DataFrame(player['Batting'])\n",
    "    bowlingDF = pd.DataFrame(player['Bowling'])\n",
    "    battingDF.to_csv('Data/' + player['Name'] + ' Batting Summary.csv')\n",
    "    bowlingDF.to_csv('Data/' + player['Name'] + ' Bowling Summary.csv')"
   ]
  },
  {
   "cell_type": "code",
   "execution_count": 102,
   "id": "0b64aa0b",
   "metadata": {},
   "outputs": [],
   "source": [
    "playerLinks = pd.read_csv('Player Links.csv', index_col=0)"
   ]
  },
  {
   "cell_type": "code",
   "execution_count": 106,
   "id": "c38a9cb0",
   "metadata": {},
   "outputs": [
    {
     "name": "stdout",
     "output_type": "stream",
     "text": [
      "{'Name': 'Virat Kohli', 'Batting': [['', 'Matches Played', 'No of Innings Batted', 'No of Not Outs', 'No of Runs Scored', 'Highest Score', 'Batting Average', 'No of Balls Faced', 'Batting Strike Rate', 'No of 100s Scored', 'No of 200s Scored', 'No of 50s Scored', 'No of fours hit', 'No of sixes hit'], ['Test', '95', '160', '10', '7671', '254', '51.14', '13550', '56.61', '27', '7', '26', '856', '22'], ['ODI', '254', '245', '39', '12169', '183', '59.07', '13061', '93.17', '43', '0', '62', '1140', '126'], ['T20I', '89', '84', '24', '3159', '94', '52.65', '2272', '139.04', '0', '0', '28', '285', '90'], ['IPL', '199', '191', '31', '6076', '113', '37.98', '4659', '130.41', '5', '0', '40', '524', '205']], 'Bowling': [['', 'Matches Played', 'No of Innings Bowled', 'No of Balls Bowled', 'No of Runs Conceded', 'Wickets', 'Best Bowling in Innings', 'Best Bowling in Match', 'Economy', 'Bowling Average', 'Bowling Strike Rate', 'Five Wickets in an Innings', 'Ten Wickets in an Match'], ['Test', '95', '11', '175', '84', '0', '0/0', '0/0', '2.88', '0.0', '0.0', '0', '0'], ['ODI', '254', '48', '641', '665', '4', '1/15', '1/15', '6.22', '166.25', '160.25', '0', '0'], ['T20I', '89', '12', '146', '198', '4', '1/13', '1/13', '8.14', '49.5', '36.5', '0', '0'], ['IPL', '199', '26', '251', '368', '4', '2/25', '2/25', '8.8', '92.0', '62.75', '0', '0']]}\n",
      "{'Name': 'Rohit Sharma', 'Batting': [['', 'Matches Played', 'No of Innings Batted', 'No of Not Outs', 'No of Runs Scored', 'Highest Score', 'Batting Average', 'No of Balls Faced', 'Batting Strike Rate', 'No of 100s Scored', 'No of 200s Scored', 'No of 50s Scored', 'No of fours hit', 'No of sixes hit'], ['Test', '42', '72', '9', '2909', '212', '46.17', '5210', '55.83', '7', '1', '14', '309', '62'], ['ODI', '227', '220', '32', '9205', '264', '48.96', '10354', '88.9', '29', '3', '43', '832', '244'], ['T20I', '111', '103', '14', '2864', '118', '32.18', '2061', '138.96', '4', '0', '22', '252', '133'], ['IPL', '207', '202', '28', '5480', '109', '31.49', '4199', '130.51', '1', '0', '40', '476', '224']], 'Bowling': [['', 'Matches Played', 'No of Innings Bowled', 'No of Balls Bowled', 'No of Runs Conceded', 'Wickets', 'Best Bowling in Innings', 'Best Bowling in Match', 'Economy', 'Bowling Average', 'Bowling Strike Rate', 'Five Wickets in an Innings', 'Ten Wickets in an Match'], ['Test', '42', '16', '383', '224', '2', '1/26', '1/35', '3.51', '112.0', '191.5', '0', '0'], ['ODI', '227', '38', '593', '515', '8', '2/27', '2/27', '5.21', '64.38', '74.12', '0', '0'], ['T20I', '111', '9', '68', '113', '1', '1/22', '1/22', '9.97', '113.0', '68.0', '0', '0'], ['IPL', '207', '31', '338', '449', '15', '4/6', '4/6', '7.97', '29.93', '22.53', '0', '0']]}\n",
      "{'Name': 'Shikhar Dhawan', 'Batting': [['', 'Matches Played', 'No of Innings Batted', 'No of Not Outs', 'No of Runs Scored', 'Highest Score', 'Batting Average', 'No of Balls Faced', 'Batting Strike Rate', 'No of 100s Scored', 'No of 200s Scored', 'No of 50s Scored', 'No of fours hit', 'No of sixes hit'], ['Test', '34', '58', '1', '2315', '190', '40.61', '3458', '66.95', '7', '0', '5', '316', '12'], ['ODI', '145', '142', '8', '6105', '143', '45.56', '6509', '93.79', '17', '0', '33', '763', '72'], ['T20I', '67', '66', '3', '1759', '92', '27.92', '1392', '126.36', '0', '0', '11', '191', '50'], ['IPL', '184', '183', '24', '5576', '106', '35.07', '4379', '127.34', '2', '0', '44', '634', '116']], 'Bowling': [['', 'Matches Played', 'No of Innings Bowled', 'No of Balls Bowled', 'No of Runs Conceded', 'Wickets', 'Best Bowling in Innings', 'Best Bowling in Match', 'Economy', 'Bowling Average', 'Bowling Strike Rate', 'Five Wickets in an Innings', 'Ten Wickets in an Match'], ['Test', '34', '5', '54', '18', '0', '0/0', '0/0', '2.0', '0.0', '0.0', '0', '0'], ['ODI', '145', '-', '-', '-', '-', '-', '-', '-', '-', '-', '-', '-'], ['T20I', '67', '-', '-', '-', '-', '-', '-', '-', '-', '-', '-', '-'], ['IPL', '184', '6', '48', '66', '4', '1/7', '1/7', '8.25', '16.5', '12.0', '0', '0']]}\n",
      "{'Name': 'Shubman Gill', 'Batting': [['', 'Matches Played', 'No of Innings Batted', 'No of Not Outs', 'No of Runs Scored', 'Highest Score', 'Batting Average', 'No of Balls Faced', 'Batting Strike Rate', 'No of 100s Scored', 'No of 200s Scored', 'No of 50s Scored', 'No of fours hit', 'No of sixes hit'], ['Test', '8', '15', '2', '414', '91', '31.85', '741', '55.87', '0', '0', '3', '54', '5'], ['ODI', '3', '3', '0', '49', '33', '16.33', '71', '69.01', '0', '0', '0', '5', '1'], ['IPL', '48', '45', '10', '1071', '76', '30.6', '862', '124.25', '0', '0', '7', '101', '29']], 'Bowling': [['', 'Matches Played', 'No of Innings Bowled', 'No of Balls Bowled', 'No of Runs Conceded', 'Wickets', 'Best Bowling in Innings', 'Best Bowling in Match', 'Economy', 'Bowling Average', 'Bowling Strike Rate', 'Five Wickets in an Innings', 'Ten Wickets in an Match'], ['Test', '8', '-', '-', '-', '-', '-', '-', '-', '-', '-', '-', '-'], ['ODI', '3', '-', '-', '-', '-', '-', '-', '-', '-', '-', '-', '-'], ['IPL', '48', '-', '-', '-', '-', '-', '-', '-', '-', '-', '-', '-']]}\n",
      "{'Name': 'Shreyas Iyer', 'Batting': [['', 'Matches Played', 'No of Innings Batted', 'No of Not Outs', 'No of Runs Scored', 'Highest Score', 'Batting Average', 'No of Balls Faced', 'Batting Strike Rate', 'No of 100s Scored', 'No of 200s Scored', 'No of 50s Scored', 'No of fours hit', 'No of sixes hit'], ['ODI', '22', '20', '1', '813', '103', '42.79', '810', '100.37', '1', '0', '8', '81', '17'], ['T20I', '28', '26', '7', '550', '67', '28.95', '411', '133.82', '0', '0', '3', '44', '22'], ['IPL', '79', '79', '9', '2200', '96', '31.43', '1745', '126.07', '0', '0', '16', '189', '83']], 'Bowling': [['', 'Matches Played', 'No of Innings Bowled', 'No of Balls Bowled', 'No of Runs Conceded', 'Wickets', 'Best Bowling in Innings', 'Best Bowling in Match', 'Economy', 'Bowling Average', 'Bowling Strike Rate', 'Five Wickets in an Innings', 'Ten Wickets in an Match'], ['ODI', '22', '2', '12', '15', '0', '0/2', '0/2', '7.5', '0.0', '0.0', '0', '0'], ['T20I', '28', '-', '-', '-', '-', '-', '-', '-', '-', '-', '-', '-'], ['IPL', '79', '-', '-', '-', '-', '-', '-', '-', '-', '-', '-', '-']]}\n",
      "{'Name': 'Manish Pandey', 'Batting': [['', 'Matches Played', 'No of Innings Batted', 'No of Not Outs', 'No of Runs Scored', 'Highest Score', 'Batting Average', 'No of Balls Faced', 'Batting Strike Rate', 'No of 100s Scored', 'No of 200s Scored', 'No of 50s Scored', 'No of fours hit', 'No of sixes hit'], ['ODI', '29', '24', '7', '566', '104', '33.29', '625', '90.56', '1', '0', '2', '45', '5'], ['T20I', '39', '33', '17', '709', '79', '44.31', '562', '126.16', '0', '0', '3', '49', '19'], ['IPL', '151', '140', '26', '3461', '114', '30.36', '2842', '121.78', '1', '0', '20', '299', '101']], 'Bowling': [['', 'Matches Played', 'No of Innings Bowled', 'No of Balls Bowled', 'No of Runs Conceded', 'Wickets', 'Best Bowling in Innings', 'Best Bowling in Match', 'Economy', 'Bowling Average', 'Bowling Strike Rate', 'Five Wickets in an Innings', 'Ten Wickets in an Match'], ['ODI', '29', '-', '-', '-', '-', '-', '-', '-', '-', '-', '-', '-'], ['T20I', '39', '-', '-', '-', '-', '-', '-', '-', '-', '-', '-', '-'], ['IPL', '151', '-', '-', '-', '-', '-', '-', '-', '-', '-', '-', '-']]}\n",
      "{'Name': 'Mayank Agarwal', 'Batting': [['', 'Matches Played', 'No of Innings Batted', 'No of Not Outs', 'No of Runs Scored', 'Highest Score', 'Batting Average', 'No of Balls Faced', 'Batting Strike Rate', 'No of 100s Scored', 'No of 200s Scored', 'No of 50s Scored', 'No of fours hit', 'No of sixes hit'], ['Test', '14', '23', '0', '1052', '243', '45.74', '1931', '54.48', '3', '2', '4', '123', '23'], ['ODI', '5', '5', '0', '86', '32', '17.2', '83', '103.61', '0', '0', '0', '12', '1'], ['IPL', '95', '90', '4', '1954', '106', '22.72', '1443', '135.41', '1', '0', '9', '186', '78']], 'Bowling': [['', 'Matches Played', 'No of Innings Bowled', 'No of Balls Bowled', 'No of Runs Conceded', 'Wickets', 'Best Bowling in Innings', 'Best Bowling in Match', 'Economy', 'Bowling Average', 'Bowling Strike Rate', 'Five Wickets in an Innings', 'Ten Wickets in an Match'], ['Test', '14', '-', '-', '-', '-', '-', '-', '-', '-', '-', '-', '-'], ['ODI', '5', '1', '6', '10', '0', '0/10', '0/10', '10.0', '0.0', '0.0', '0', '0'], ['IPL', '95', '-', '-', '-', '-', '-', '-', '-', '-', '-', '-', '-']]}\n"
     ]
    },
    {
     "name": "stdout",
     "output_type": "stream",
     "text": [
      "{'Name': 'Prithvi Shaw', 'Batting': [['', 'Matches Played', 'No of Innings Batted', 'No of Not Outs', 'No of Runs Scored', 'Highest Score', 'Batting Average', 'No of Balls Faced', 'Batting Strike Rate', 'No of 100s Scored', 'No of 200s Scored', 'No of 50s Scored', 'No of fours hit', 'No of sixes hit'], ['Test', '5', '9', '1', '339', '134', '42.38', '394', '86.04', '1', '0', '2', '48', '2'], ['ODI', '6', '6', '0', '189', '49', '31.5', '166', '113.86', '0', '0', '0', '32', '2'], ['T20I', '1', '1', '0', '0', '0', '0.0', '1', '0.0', '0', '0', '0', '0', '0'], ['IPL', '46', '46', '0', '1134', '99', '24.65', '776', '146.13', '0', '0', '9', '136', '39']], 'Bowling': [['', 'Matches Played', 'No of Innings Bowled', 'No of Balls Bowled', 'No of Runs Conceded', 'Wickets', 'Best Bowling in Innings', 'Best Bowling in Match', 'Economy', 'Bowling Average', 'Bowling Strike Rate', 'Five Wickets in an Innings', 'Ten Wickets in an Match'], ['Test', '5', '-', '-', '-', '-', '-', '-', '-', '-', '-', '-', '-'], ['ODI', '6', '-', '-', '-', '-', '-', '-', '-', '-', '-', '-', '-'], ['T20I', '1', '-', '-', '-', '-', '-', '-', '-', '-', '-', '-', '-'], ['IPL', '46', '-', '-', '-', '-', '-', '-', '-', '-', '-', '-', '-']]}\n",
      "{'Name': 'Cheteshwar Pujara', 'Batting': [['', 'Matches Played', 'No of Innings Batted', 'No of Not Outs', 'No of Runs Scored', 'Highest Score', 'Batting Average', 'No of Balls Faced', 'Batting Strike Rate', 'No of 100s Scored', 'No of 200s Scored', 'No of 50s Scored', 'No of fours hit', 'No of sixes hit'], ['Test', '89', '150', '9', '6429', '206', '45.6', '14494', '44.36', '18', '3', '30', '763', '14'], ['ODI', '5', '5', '0', '51', '27', '10.2', '130', '39.23', '0', '0', '0', '4', '0'], ['IPL', '30', '22', '3', '390', '51', '20.53', '391', '99.74', '0', '0', '1', '50', '4']], 'Bowling': [['', 'Matches Played', 'No of Innings Bowled', 'No of Balls Bowled', 'No of Runs Conceded', 'Wickets', 'Best Bowling in Innings', 'Best Bowling in Match', 'Economy', 'Bowling Average', 'Bowling Strike Rate', 'Five Wickets in an Innings', 'Ten Wickets in an Match'], ['Test', '89', '1', '6', '2', '0', '0/2', '0/2', '2.0', '0.0', '0.0', '0', '0'], ['ODI', '5', '-', '-', '-', '-', '-', '-', '-', '-', '-', '-', '-'], ['IPL', '30', '-', '-', '-', '-', '-', '-', '-', '-', '-', '-', '-']]}\n",
      "{'Name': 'Ajinkya Rahane', 'Batting': [['', 'Matches Played', 'No of Innings Batted', 'No of Not Outs', 'No of Runs Scored', 'Highest Score', 'Batting Average', 'No of Balls Faced', 'Batting Strike Rate', 'No of 100s Scored', 'No of 200s Scored', 'No of 50s Scored', 'No of fours hit', 'No of sixes hit'], ['Test', '77', '130', '12', '4742', '188', '40.19', '9614', '49.32', '12', '0', '24', '531', '32'], ['ODI', '90', '87', '3', '2962', '111', '35.26', '3767', '78.63', '3', '0', '24', '293', '33'], ['T20I', '20', '20', '2', '375', '61', '20.83', '331', '113.29', '0', '0', '1', '32', '6'], ['IPL', '151', '141', '16', '3941', '105', '31.53', '3248', '121.34', '2', '0', '28', '417', '76']], 'Bowling': [['', 'Matches Played', 'No of Innings Bowled', 'No of Balls Bowled', 'No of Runs Conceded', 'Wickets', 'Best Bowling in Innings', 'Best Bowling in Match', 'Economy', 'Bowling Average', 'Bowling Strike Rate', 'Five Wickets in an Innings', 'Ten Wickets in an Match'], ['Test', '77', '-', '-', '-', '-', '-', '-', '-', '-', '-', '-', '-'], ['ODI', '90', '-', '-', '-', '-', '-', '-', '-', '-', '-', '-', '-'], ['T20I', '20', '-', '-', '-', '-', '-', '-', '-', '-', '-', '-', '-'], ['IPL', '151', '1', '6', '5', '1', '1/5', '1/5', '5.0', '5.0', '6.0', '0', '0']]}\n",
      "{'Name': 'Hardik Pandya', 'Batting': [['', 'Matches Played', 'No of Innings Batted', 'No of Not Outs', 'No of Runs Scored', 'Highest Score', 'Batting Average', 'No of Balls Faced', 'Batting Strike Rate', 'No of 100s Scored', 'No of 200s Scored', 'No of 50s Scored', 'No of fours hit', 'No of sixes hit'], ['Test', '11', '18', '1', '532', '108', '31.29', '720', '73.89', '1', '0', '4', '68', '12'], ['ODI', '63', '46', '7', '1286', '92', '32.97', '1100', '116.91', '0', '0', '7', '93', '54'], ['T20I', '49', '33', '8', '484', '42', '19.36', '333', '145.35', '0', '0', '0', '27', '30'], ['IPL', '87', '80', '29', '1401', '91', '27.47', '891', '157.24', '0', '0', '4', '91', '95']], 'Bowling': [['', 'Matches Played', 'No of Innings Bowled', 'No of Balls Bowled', 'No of Runs Conceded', 'Wickets', 'Best Bowling in Innings', 'Best Bowling in Match', 'Economy', 'Bowling Average', 'Bowling Strike Rate', 'Five Wickets in an Innings', 'Ten Wickets in an Match'], ['Test', '11', '19', '937', '528', '17', '5/28', '6/50', '3.38', '31.06', '55.12', '1', '0'], ['ODI', '63', '58', '2530', '2364', '57', '3/31', '3/31', '5.61', '41.47', '44.39', '0', '0'], ['T20I', '49', '45', '815', '1111', '42', '4/38', '4/38', '8.18', '26.45', '19.4', '0', '0'], ['IPL', '87', '60', '869', '1313', '42', '3/20', '3/20', '9.07', '31.26', '20.69', '0', '0']]}\n",
      "{'Name': 'Hanuma Vihari', 'Batting': [['', 'Matches Played', 'No of Innings Batted', 'No of Not Outs', 'No of Runs Scored', 'Highest Score', 'Batting Average', 'No of Balls Faced', 'Batting Strike Rate', 'No of 100s Scored', 'No of 200s Scored', 'No of 50s Scored', 'No of fours hit', 'No of sixes hit'], ['Test', '12', '21', '2', '624', '111', '32.84', '1466', '42.56', '1', '0', '4', '83', '2'], ['IPL', '24', '23', '3', '284', '46', '14.2', '321', '88.47', '0', '0', '0', '23', '1']], 'Bowling': [['', 'Matches Played', 'No of Innings Bowled', 'No of Balls Bowled', 'No of Runs Conceded', 'Wickets', 'Best Bowling in Innings', 'Best Bowling in Match', 'Economy', 'Bowling Average', 'Bowling Strike Rate', 'Five Wickets in an Innings', 'Ten Wickets in an Match'], ['Test', '12', '10', '345', '180', '5', '3/37', '3/38', '3.13', '36.0', '69.0', '0', '0'], ['IPL', '24', '6', '42', '47', '1', '1/5', '1/5', '6.71', '47.0', '42.0', '0', '0']]}\n",
      "{'Name': 'Ravindra Jadeja', 'Batting': [['', 'Matches Played', 'No of Innings Batted', 'No of Not Outs', 'No of Runs Scored', 'Highest Score', 'Batting Average', 'No of Balls Faced', 'Batting Strike Rate', 'No of 100s Scored', 'No of 200s Scored', 'No of 50s Scored', 'No of fours hit', 'No of sixes hit'], ['Test', '55', '80', '19', '2118', '100', '34.72', '3494', '60.62', '1', '0', '16', '207', '52'], ['ODI', '168', '113', '39', '2411', '87', '32.58', '2769', '87.07', '0', '0', '13', '178', '49'], ['T20I', '50', '24', '10', '217', '44', '15.5', '193', '112.44', '0', '0', '0', '12', '6'], ['IPL', '191', '145', '59', '2290', '62', '26.63', '1787', '128.15', '0', '0', '2', '168', '82']], 'Bowling': [['', 'Matches Played', 'No of Innings Bowled', 'No of Balls Bowled', 'No of Runs Conceded', 'Wickets', 'Best Bowling in Innings', 'Best Bowling in Match', 'Economy', 'Bowling Average', 'Bowling Strike Rate', 'Five Wickets in an Innings', 'Ten Wickets in an Match'], ['Test', '55', '104', '13685', '5582', '223', '7/48', '10/154', '2.45', '25.03', '61.37', '9', '1'], ['ODI', '168', '164', '8557', '7024', '188', '5/36', '5/36', '4.93', '37.36', '45.52', '1', '0'], ['T20I', '50', '49', '973', '1152', '39', '3/48', '3/48', '7.1', '29.54', '24.95', '0', '0'], ['IPL', '191', '162', '2857', '3631', '120', '5/16', '5/16', '7.63', '30.26', '23.81', '1', '0']]}\n",
      "{'Name': 'Ravichandran Ashwin', 'Batting': [['', 'Matches Played', 'No of Innings Batted', 'No of Not Outs', 'No of Runs Scored', 'Highest Score', 'Batting Average', 'No of Balls Faced', 'Batting Strike Rate', 'No of 100s Scored', 'No of 200s Scored', 'No of 50s Scored', 'No of fours hit', 'No of sixes hit'], ['Test', '79', '111', '14', '2685', '124', '27.68', '4994', '53.76', '5', '0', '11', '307', '16'], ['ODI', '111', '61', '19', '675', '65', '16.07', '776', '86.98', '0', '0', '1', '59', '6'], ['T20I', '46', '11', '7', '123', '31', '30.75', '115', '106.96', '0', '0', '0', '14', '1'], ['IPL', '159', '59', '20', '419', '45', '10.74', '377', '111.14', '0', '0', '0', '36', '11']], 'Bowling': [['', 'Matches Played', 'No of Innings Bowled', 'No of Balls Bowled', 'No of Runs Conceded', 'Wickets', 'Best Bowling in Innings', 'Best Bowling in Match', 'Economy', 'Bowling Average', 'Bowling Strike Rate', 'Five Wickets in an Innings', 'Ten Wickets in an Match'], ['Test', '79', '148', '21670', '10144', '413', '7/59', '13/140', '2.81', '24.56', '52.47', '30', '7'], ['ODI', '111', '109', '6021', '4937', '150', '4/25', '4/25', '4.92', '32.91', '40.14', '0', '0'], ['T20I', '46', '46', '1026', '1193', '52', '4/8', '4/8', '6.98', '22.94', '19.73', '0', '0'], ['IPL', '159', '156', '3344', '3847', '139', '4/34', '4/34', '6.9', '27.68', '24.06', '0', '0']]}\n"
     ]
    },
    {
     "name": "stdout",
     "output_type": "stream",
     "text": [
      "{'Name': 'KL Rahul', 'Batting': [['', 'Matches Played', 'No of Innings Batted', 'No of Not Outs', 'No of Runs Scored', 'Highest Score', 'Batting Average', 'No of Balls Faced', 'Batting Strike Rate', 'No of 100s Scored', 'No of 200s Scored', 'No of 50s Scored', 'No of fours hit', 'No of sixes hit'], ['Test', '39', '66', '2', '2258', '199', '35.28', '4143', '54.5', '6', '0', '12', '267', '15'], ['ODI', '38', '37', '6', '1509', '112', '48.68', '1690', '89.29', '5', '0', '9', '114', '36'], ['T20I', '48', '45', '6', '1557', '110', '39.92', '1095', '142.19', '2', '0', '12', '138', '63'], ['IPL', '88', '79', '15', '2978', '132', '46.53', '2192', '135.86', '2', '0', '25', '261', '120']], 'Bowling': [['', 'Matches Played', 'No of Innings Bowled', 'No of Balls Bowled', 'No of Runs Conceded', 'Wickets', 'Best Bowling in Innings', 'Best Bowling in Match', 'Economy', 'Bowling Average', 'Bowling Strike Rate', 'Five Wickets in an Innings', 'Ten Wickets in an Match'], ['Test', '39', '-', '-', '-', '-', '-', '-', '-', '-', '-', '-', '-'], ['ODI', '38', '-', '-', '-', '-', '-', '-', '-', '-', '-', '-', '-'], ['T20I', '48', '-', '-', '-', '-', '-', '-', '-', '-', '-', '-', '-'], ['IPL', '88', '-', '-', '-', '-', '-', '-', '-', '-', '-', '-', '-']]}\n",
      "{'Name': 'Sanju Samson', 'Batting': [['', 'Matches Played', 'No of Innings Batted', 'No of Not Outs', 'No of Runs Scored', 'Highest Score', 'Batting Average', 'No of Balls Faced', 'Batting Strike Rate', 'No of 100s Scored', 'No of 200s Scored', 'No of 50s Scored', 'No of fours hit', 'No of sixes hit'], ['ODI', '1', '1', '0', '46', '46', '46.0', '46', '100.0', '0', '0', '0', '5', '1'], ['T20I', '10', '10', '0', '117', '27', '11.7', '106', '110.38', '0', '0', '0', '5', '5'], ['IPL', '114', '110', '11', '2861', '119', '28.9', '2122', '134.83', '3', '0', '13', '217', '126']], 'Bowling': [['', 'Matches Played', 'No of Innings Bowled', 'No of Balls Bowled', 'No of Runs Conceded', 'Wickets', 'Best Bowling in Innings', 'Best Bowling in Match', 'Economy', 'Bowling Average', 'Bowling Strike Rate', 'Five Wickets in an Innings', 'Ten Wickets in an Match'], ['ODI', '1', '-', '-', '-', '-', '-', '-', '-', '-', '-', '-', '-'], ['T20I', '10', '-', '-', '-', '-', '-', '-', '-', '-', '-', '-', '-'], ['IPL', '114', '-', '-', '-', '-', '-', '-', '-', '-', '-', '-', '-']]}\n",
      "{'Name': 'Wriddhiman Saha', 'Batting': [['', 'Matches Played', 'No of Innings Batted', 'No of Not Outs', 'No of Runs Scored', 'Highest Score', 'Batting Average', 'No of Balls Faced', 'Batting Strike Rate', 'No of 100s Scored', 'No of 200s Scored', 'No of 50s Scored', 'No of fours hit', 'No of sixes hit'], ['Test', '38', '52', '9', '1251', '117', '29.09', '2761', '45.31', '3', '0', '5', '120', '12'], ['ODI', '9', '5', '2', '41', '16', '13.67', '56', '73.21', '0', '0', '0', '5', '0'], ['IPL', '126', '101', '22', '1987', '115', '25.15', '1514', '131.24', '1', '0', '8', '184', '65']], 'Bowling': [['', 'Matches Played', 'No of Innings Bowled', 'No of Balls Bowled', 'No of Runs Conceded', 'Wickets', 'Best Bowling in Innings', 'Best Bowling in Match', 'Economy', 'Bowling Average', 'Bowling Strike Rate', 'Five Wickets in an Innings', 'Ten Wickets in an Match'], ['Test', '38', '-', '-', '-', '-', '-', '-', '-', '-', '-', '-', '-'], ['ODI', '9', '-', '-', '-', '-', '-', '-', '-', '-', '-', '-', '-'], ['IPL', '126', '-', '-', '-', '-', '-', '-', '-', '-', '-', '-', '-']]}\n",
      "{'Name': 'Rishabh Pant', 'Batting': [['', 'Matches Played', 'No of Innings Batted', 'No of Not Outs', 'No of Runs Scored', 'Highest Score', 'Batting Average', 'No of Balls Faced', 'Batting Strike Rate', 'No of 100s Scored', 'No of 200s Scored', 'No of 50s Scored', 'No of fours hit', 'No of sixes hit'], ['Test', '24', '40', '3', '1490', '159', '40.27', '2150', '69.3', '3', '0', '6', '159', '34'], ['ODI', '18', '16', '0', '529', '78', '33.06', '463', '114.25', '0', '0', '3', '48', '21'], ['T20I', '32', '29', '5', '512', '65', '21.33', '415', '123.37', '0', '0', '2', '39', '21'], ['IPL', '76', '76', '11', '2292', '128', '35.26', '1530', '149.8', '1', '0', '14', '208', '107']], 'Bowling': [['', 'Matches Played', 'No of Innings Bowled', 'No of Balls Bowled', 'No of Runs Conceded', 'Wickets', 'Best Bowling in Innings', 'Best Bowling in Match', 'Economy', 'Bowling Average', 'Bowling Strike Rate', 'Five Wickets in an Innings', 'Ten Wickets in an Match'], ['Test', '24', '-', '-', '-', '-', '-', '-', '-', '-', '-', '-', '-'], ['ODI', '18', '-', '-', '-', '-', '-', '-', '-', '-', '-', '-', '-'], ['T20I', '32', '-', '-', '-', '-', '-', '-', '-', '-', '-', '-', '-'], ['IPL', '76', '-', '-', '-', '-', '-', '-', '-', '-', '-', '-', '-']]}\n",
      "{'Name': 'Mohammed Shami', 'Batting': [['', 'Matches Played', 'No of Innings Batted', 'No of Not Outs', 'No of Runs Scored', 'Highest Score', 'Batting Average', 'No of Balls Faced', 'Batting Strike Rate', 'No of 100s Scored', 'No of 200s Scored', 'No of 50s Scored', 'No of fours hit', 'No of sixes hit'], ['Test', '54', '73', '22', '590', '56', '11.57', '764', '77.23', '0', '0', '2', '61', '21'], ['ODI', '79', '38', '17', '161', '25', '7.67', '194', '82.99', '0', '0', '0', '12', '7'], ['T20I', '12', '-', '-', '-', '-', '-', '-', '-', '-', '-', '-', '-', '-'], ['IPL', '71', '22', '11', '69', '21', '6.27', '73', '94.52', '0', '0', '0', '5', '2']], 'Bowling': [['', 'Matches Played', 'No of Innings Bowled', 'No of Balls Bowled', 'No of Runs Conceded', 'Wickets', 'Best Bowling in Innings', 'Best Bowling in Match', 'Economy', 'Bowling Average', 'Bowling Strike Rate', 'Five Wickets in an Innings', 'Ten Wickets in an Match'], ['Test', '54', '102', '9801', '5376', '195', '6/56', '9/118', '3.29', '27.57', '50.26', '5', '0'], ['ODI', '79', '78', '4044', '3793', '148', '5/69', '5/69', '5.63', '25.63', '27.32', '1', '0'], ['T20I', '12', '12', '262', '428', '12', '3/38', '3/38', '9.8', '35.67', '21.83', '0', '0'], ['IPL', '71', '71', '1526', '2241', '68', '3/15', '3/15', '8.81', '32.96', '22.44', '0', '0']]}\n",
      "{'Name': 'Jasprit Bumrah', 'Batting': [['', 'Matches Played', 'No of Innings Batted', 'No of Not Outs', 'No of Runs Scored', 'Highest Score', 'Batting Average', 'No of Balls Faced', 'Batting Strike Rate', 'No of 100s Scored', 'No of 200s Scored', 'No of 50s Scored', 'No of fours hit', 'No of sixes hit'], ['Test', '23', '35', '13', '106', '34', '4.82', '307', '34.53', '0', '0', '0', '11', '1'], ['ODI', '67', '17', '11', '19', '10', '3.17', '49', '38.78', '0', '0', '0', '2', '1'], ['T20I', '49', '6', '4', '8', '7', '4.0', '13', '61.54', '0', '0', '0', '1', '0'], ['IPL', '99', '16', '12', '44', '16', '11.0', '47', '93.62', '0', '0', '0', '2', '1']], 'Bowling': [['', 'Matches Played', 'No of Innings Bowled', 'No of Balls Bowled', 'No of Runs Conceded', 'Wickets', 'Best Bowling in Innings', 'Best Bowling in Match', 'Economy', 'Bowling Average', 'Bowling Strike Rate', 'Five Wickets in an Innings', 'Ten Wickets in an Match'], ['Test', '23', '44', '4943', '2208', '97', '6/27', '9/86', '2.68', '22.76', '50.96', '6', '0'], ['ODI', '67', '67', '3523', '2736', '108', '5/27', '5/27', '4.66', '25.33', '32.62', '1', '0'], ['T20I', '49', '49', '1075', '1195', '59', '3/11', '3/11', '6.67', '20.25', '18.22', '0', '0'], ['IPL', '99', '99', '2254', '2779', '115', '4/14', '4/14', '7.4', '24.17', '19.6', '0', '0']]}\n",
      "{'Name': 'Kuldeep Yadav', 'Batting': [['', 'Matches Played', 'No of Innings Batted', 'No of Not Outs', 'No of Runs Scored', 'Highest Score', 'Batting Average', 'No of Balls Faced', 'Batting Strike Rate', 'No of 100s Scored', 'No of 200s Scored', 'No of 50s Scored', 'No of fours hit', 'No of sixes hit'], ['Test', '7', '8', '0', '54', '26', '6.75', '185', '29.19', '0', '0', '0', '6', '0'], ['ODI', '65', '21', '12', '118', '19', '13.11', '188', '62.77', '0', '0', '0', '10', '0'], ['T20I', '22', '3', '2', '43', '23', '43.0', '48', '89.58', '0', '0', '0', '2', '0'], ['IPL', '45', '11', '5', '57', '16', '9.5', '75', '76.0', '0', '0', '0', '5', '0']], 'Bowling': [['', 'Matches Played', 'No of Innings Bowled', 'No of Balls Bowled', 'No of Runs Conceded', 'Wickets', 'Best Bowling in Innings', 'Best Bowling in Match', 'Economy', 'Bowling Average', 'Bowling Strike Rate', 'Five Wickets in an Innings', 'Ten Wickets in an Match'], ['Test', '7', '12', '1063', '620', '26', '5/57', '6/119', '3.5', '23.85', '40.88', '2', '0'], ['ODI', '65', '63', '3480', '3033', '107', '6/25', '6/25', '5.23', '28.35', '32.52', '1', '0'], ['T20I', '22', '22', '489', '583', '41', '5/24', '5/24', '7.15', '14.22', '11.93', '1', '0'], ['IPL', '45', '43', '896', '1236', '40', '4/20', '4/20', '8.28', '30.9', '22.4', '0', '0']]}\n"
     ]
    },
    {
     "name": "stdout",
     "output_type": "stream",
     "text": [
      "{'Name': 'Yuzvendra Chahal', 'Batting': [['', 'Matches Played', 'No of Innings Batted', 'No of Not Outs', 'No of Runs Scored', 'Highest Score', 'Batting Average', 'No of Balls Faced', 'Batting Strike Rate', 'No of 100s Scored', 'No of 200s Scored', 'No of 50s Scored', 'No of fours hit', 'No of sixes hit'], ['ODI', '56', '10', '4', '53', '18', '8.83', '90', '58.89', '0', '0', '0', '7', '0'], ['T20I', '49', '4', '2', '5', '3', '2.5', '11', '45.45', '0', '0', '0', '0', '0'], ['IPL', '106', '17', '11', '30', '8', '5.0', '72', '41.67', '0', '0', '0', '0', '0']], 'Bowling': [['', 'Matches Played', 'No of Innings Bowled', 'No of Balls Bowled', 'No of Runs Conceded', 'Wickets', 'Best Bowling in Innings', 'Best Bowling in Match', 'Economy', 'Bowling Average', 'Bowling Strike Rate', 'Five Wickets in an Innings', 'Ten Wickets in an Match'], ['ODI', '56', '55', '3013', '2613', '97', '6/42', '6/42', '5.2', '26.94', '31.06', '2', '0'], ['T20I', '49', '49', '1149', '1594', '63', '6/25', '6/25', '8.32', '25.3', '18.24', '1', '0'], ['IPL', '106', '105', '2268', '2913', '125', '4/25', '4/25', '7.71', '23.3', '18.14', '0', '0']]}\n",
      "{'Name': 'Navdeep Saini', 'Batting': [['', 'Matches Played', 'No of Innings Batted', 'No of Not Outs', 'No of Runs Scored', 'Highest Score', 'Batting Average', 'No of Balls Faced', 'Batting Strike Rate', 'No of 100s Scored', 'No of 200s Scored', 'No of 50s Scored', 'No of fours hit', 'No of sixes hit'], ['Test', '2', '3', '1', '8', '5', '4.0', '27', '29.63', '0', '0', '0', '1', '0'], ['ODI', '8', '5', '3', '107', '45', '53.5', '137', '78.1', '0', '0', '0', '9', '3'], ['T20I', '10', '3', '3', '12', '11', '0.0', '11', '109.09', '0', '0', '0', '2', '0'], ['IPL', '27', '6', '3', '31', '12', '10.33', '35', '88.57', '0', '0', '0', '3', '0']], 'Bowling': [['', 'Matches Played', 'No of Innings Bowled', 'No of Balls Bowled', 'No of Runs Conceded', 'Wickets', 'Best Bowling in Innings', 'Best Bowling in Match', 'Economy', 'Bowling Average', 'Bowling Strike Rate', 'Five Wickets in an Innings', 'Ten Wickets in an Match'], ['Test', '2', '4', '251', '172', '4', '2/54', '4/119', '4.11', '43.0', '62.75', '0', '0'], ['ODI', '8', '8', '420', '481', '6', '2/58', '2/58', '6.87', '80.17', '70.0', '0', '0'], ['T20I', '10', '9', '197', '235', '13', '3/17', '3/17', '7.16', '18.08', '15.15', '0', '0'], ['IPL', '27', '27', '574', '803', '17', '2/24', '2/24', '8.39', '47.24', '33.76', '0', '0']]}\n",
      "{'Name': 'Shardul Thakur', 'Batting': [['', 'Matches Played', 'No of Innings Batted', 'No of Not Outs', 'No of Runs Scored', 'Highest Score', 'Batting Average', 'No of Balls Faced', 'Batting Strike Rate', 'No of 100s Scored', 'No of 200s Scored', 'No of 50s Scored', 'No of fours hit', 'No of sixes hit'], ['Test', '3', '4', '1', '73', '67', '24.33', '136', '53.68', '0', '0', '1', '9', '2'], ['ODI', '15', '8', '3', '107', '30', '21.4', '74', '144.59', '0', '0', '0', '9', '6'], ['T20I', '21', '5', '3', '69', '22', '34.5', '35', '197.14', '0', '0', '0', '5', '4'], ['IPL', '52', '11', '4', '49', '15', '7.0', '43', '113.95', '0', '0', '0', '5', '1']], 'Bowling': [['', 'Matches Played', 'No of Innings Bowled', 'No of Balls Bowled', 'No of Runs Conceded', 'Wickets', 'Best Bowling in Innings', 'Best Bowling in Match', 'Economy', 'Bowling Average', 'Bowling Strike Rate', 'Five Wickets in an Innings', 'Ten Wickets in an Match'], ['Test', '3', '5', '424', '242', '11', '4/61', '7/155', '3.42', '22.0', '38.55', '0', '0'], ['ODI', '15', '15', '723', '818', '22', '4/52', '4/52', '6.79', '37.18', '32.86', '0', '0'], ['T20I', '21', '21', '455', '691', '31', '4/27', '4/27', '9.11', '22.29', '14.68', '0', '0'], ['IPL', '52', '51', '1056', '1607', '51', '3/19', '3/19', '9.13', '31.51', '20.71', '0', '0']]}\n",
      "{'Name': 'Umesh Yadav', 'Batting': [['', 'Matches Played', 'No of Innings Batted', 'No of Not Outs', 'No of Runs Scored', 'Highest Score', 'Batting Average', 'No of Balls Faced', 'Batting Strike Rate', 'No of 100s Scored', 'No of 200s Scored', 'No of 50s Scored', 'No of fours hit', 'No of sixes hit'], ['Test', '48', '55', '23', '359', '31', '11.22', '719', '49.93', '0', '0', '0', '35', '17'], ['ODI', '75', '24', '14', '79', '18', '7.9', '134', '58.96', '0', '0', '0', '8', '1'], ['T20I', '7', '1', '0', '2', '2', '2.0', '4', '50.0', '0', '0', '0', '0', '0'], ['IPL', '121', '38', '24', '122', '24', '8.71', '128', '95.31', '0', '0', '0', '11', '4']], 'Bowling': [['', 'Matches Played', 'No of Innings Bowled', 'No of Balls Bowled', 'No of Runs Conceded', 'Wickets', 'Best Bowling in Innings', 'Best Bowling in Match', 'Economy', 'Bowling Average', 'Bowling Strike Rate', 'Five Wickets in an Innings', 'Ten Wickets in an Match'], ['Test', '48', '94', '7621', '4521', '148', '6/88', '10/133', '3.56', '30.55', '51.49', '3', '1'], ['ODI', '75', '73', '3558', '3565', '106', '4/31', '4/31', '6.01', '33.63', '33.57', '0', '0'], ['T20I', '7', '7', '150', '219', '9', '2/19', '2/19', '8.76', '24.33', '16.67', '0', '0'], ['IPL', '121', '120', '2522', '3579', '119', '4/24', '4/24', '8.51', '30.08', '21.19', '0', '0']]}\n",
      "{'Name': 'Mohammed Siraj', 'Batting': [['', 'Matches Played', 'No of Innings Batted', 'No of Not Outs', 'No of Runs Scored', 'Highest Score', 'Batting Average', 'No of Balls Faced', 'Batting Strike Rate', 'No of 100s Scored', 'No of 200s Scored', 'No of 50s Scored', 'No of fours hit', 'No of sixes hit'], ['Test', '8', '10', '4', '49', '16', '8.17', '68', '72.06', '0', '0', '0', '5', '2'], ['ODI', '1', '-', '-', '-', '-', '-', '-', '-', '-', '-', '-', '-', '-'], ['T20I', '3', '-', '-', '-', '-', '-', '-', '-', '-', '-', '-', '-', '-'], ['IPL', '42', '14', '10', '58', '14', '14.5', '66', '87.88', '0', '0', '0', '4', '2']], 'Bowling': [['', 'Matches Played', 'No of Innings Bowled', 'No of Balls Bowled', 'No of Runs Conceded', 'Wickets', 'Best Bowling in Innings', 'Best Bowling in Match', 'Economy', 'Bowling Average', 'Bowling Strike Rate', 'Five Wickets in an Innings', 'Ten Wickets in an Match'], ['Test', '8', '15', '1567', '796', '29', '5/73', '8/126', '3.05', '27.45', '54.03', '1', '0'], ['ODI', '1', '1', '60', '76', '0', '0/76', '0/76', '7.6', '0.0', '0.0', '0', '0'], ['T20I', '3', '3', '72', '148', '3', '1/45', '1/45', '12.33', '49.33', '24.0', '0', '0'], ['IPL', '42', '42', '872', '1275', '45', '4/32', '4/32', '8.77', '28.33', '19.38', '0', '0']]}\n"
     ]
    }
   ],
   "source": [
    "for link in playerLinks['Link']:\n",
    "    player = getPlayerStats(link)\n",
    "    dumpCSV(player)"
   ]
  },
  {
   "cell_type": "code",
   "execution_count": 9,
   "id": "dfbaef11",
   "metadata": {},
   "outputs": [],
   "source": [
    "#Through search query\n",
    "playerLinks = ['https://www.cricbuzz.com/profiles/7915/suryakumar-yadav',\n",
    " 'https://www.cricbuzz.com/profiles/10276/ishan-kishan',\n",
    " 'https://www.cricbuzz.com/profiles/11311/krunal-pandya',\n",
    " 'https://www.cricbuzz.com/profiles/10945/washington-sundar',\n",
    " 'https://www.cricbuzz.com/profiles/7836/deepak-chahar',\n",
    " 'https://www.cricbuzz.com/profiles/10225/t-natarajan',\n",
    " 'https://www.cricbuzz.com/profiles/12926/varun-chakravarthy',\n",
    " 'https://www.cricbuzz.com/profiles/12087/rahul-chahar']"
   ]
  },
  {
   "cell_type": "code",
   "execution_count": 10,
   "id": "5780a214",
   "metadata": {},
   "outputs": [
    {
     "name": "stdout",
     "output_type": "stream",
     "text": [
      "{'Name': 'Suryakumar Yadav', 'Batting': [['', 'Matches Played', 'No of Innings Batted', 'No of Not Outs', 'No of Runs Scored', 'Highest Score', 'Batting Average', 'No of Balls Faced', 'Batting Strike Rate', 'No of 100s Scored', 'No of 200s Scored', 'No of 50s Scored', 'No of fours hit', 'No of sixes hit'], ['ODI', '3', '3', '1', '124', '53', '62.0', '101', '122.77', '0', '0', '1', '18', '0'], ['T20I', '4', '3', '0', '139', '57', '46.33', '82', '169.51', '0', '0', '2', '14', '7'], ['IPL', '108', '93', '19', '2197', '79', '29.69', '1624', '135.28', '0', '0', '12', '243', '63']], 'Bowling': [['', 'Matches Played', 'No of Innings Bowled', 'No of Balls Bowled', 'No of Runs Conceded', 'Wickets', 'Best Bowling in Innings', 'Best Bowling in Match', 'Economy', 'Bowling Average', 'Bowling Strike Rate', 'Five Wickets in an Innings', 'Ten Wickets in an Match'], ['ODI', '3', '-', '-', '-', '-', '-', '-', '-', '-', '-', '-', '-'], ['T20I', '4', '-', '-', '-', '-', '-', '-', '-', '-', '-', '-', '-'], ['IPL', '108', '1', '6', '8', '0', '0/8', '0/8', '8.0', '0.0', '0.0', '0', '0']]}\n",
      "{'Name': 'Ishan Kishan', 'Batting': [['', 'Matches Played', 'No of Innings Batted', 'No of Not Outs', 'No of Runs Scored', 'Highest Score', 'Batting Average', 'No of Balls Faced', 'Batting Strike Rate', 'No of 100s Scored', 'No of 200s Scored', 'No of 50s Scored', 'No of fours hit', 'No of sixes hit'], ['ODI', '2', '2', '0', '60', '59', '30.0', '46', '130.43', '0', '0', '1', '8', '2'], ['T20I', '3', '3', '1', '80', '56', '40.0', '55', '145.45', '0', '0', '1', '6', '5'], ['IPL', '56', '51', '4', '1284', '99', '27.32', '973', '131.96', '0', '0', '7', '103', '66']], 'Bowling': [['', 'Matches Played', 'No of Innings Bowled', 'No of Balls Bowled', 'No of Runs Conceded', 'Wickets', 'Best Bowling in Innings', 'Best Bowling in Match', 'Economy', 'Bowling Average', 'Bowling Strike Rate', 'Five Wickets in an Innings', 'Ten Wickets in an Match'], ['ODI', '2', '-', '-', '-', '-', '-', '-', '-', '-', '-', '-', '-'], ['T20I', '3', '-', '-', '-', '-', '-', '-', '-', '-', '-', '-', '-'], ['IPL', '56', '-', '-', '-', '-', '-', '-', '-', '-', '-', '-', '-']]}\n",
      "{'Name': 'Krunal Pandya', 'Batting': [['', 'Matches Played', 'No of Innings Batted', 'No of Not Outs', 'No of Runs Scored', 'Highest Score', 'Batting Average', 'No of Balls Faced', 'Batting Strike Rate', 'No of 100s Scored', 'No of 200s Scored', 'No of 50s Scored', 'No of fours hit', 'No of sixes hit'], ['ODI', '5', '4', '2', '130', '58', '65.0', '128', '101.56', '0', '0', '1', '11', '2'], ['T20I', '19', '10', '5', '124', '26', '24.8', '95', '130.53', '0', '0', '0', '8', '6'], ['IPL', '78', '67', '20', '1100', '86', '23.4', '778', '141.39', '0', '0', '1', '103', '44']], 'Bowling': [['', 'Matches Played', 'No of Innings Bowled', 'No of Balls Bowled', 'No of Runs Conceded', 'Wickets', 'Best Bowling in Innings', 'Best Bowling in Match', 'Economy', 'Bowling Average', 'Bowling Strike Rate', 'Five Wickets in an Innings', 'Ten Wickets in an Match'], ['ODI', '5', '5', '228', '223', '2', '1/26', '1/26', '5.87', '111.5', '114.0', '0', '0'], ['T20I', '19', '19', '410', '554', '15', '4/36', '4/36', '8.11', '36.93', '27.33', '0', '0'], ['IPL', '78', '75', '1347', '1636', '49', '3/14', '3/14', '7.29', '33.39', '27.49', '0', '0']]}\n",
      "{'Name': 'Washington Sundar', 'Batting': [['', 'Matches Played', 'No of Innings Batted', 'No of Not Outs', 'No of Runs Scored', 'Highest Score', 'Batting Average', 'No of Balls Faced', 'Batting Strike Rate', 'No of 100s Scored', 'No of 200s Scored', 'No of 50s Scored', 'No of fours hit', 'No of sixes hit'], ['Test', '4', '6', '2', '265', '96', '66.25', '502', '52.79', '0', '0', '3', '31', '5'], ['ODI', '1', '-', '-', '-', '-', '-', '-', '-', '-', '-', '-', '-', '-'], ['T20I', '30', '11', '4', '47', '14', '6.71', '32', '146.88', '0', '0', '0', '4', '3'], ['IPL', '42', '26', '11', '217', '35', '14.47', '195', '111.28', '0', '0', '0', '17', '6']], 'Bowling': [['', 'Matches Played', 'No of Innings Bowled', 'No of Balls Bowled', 'No of Runs Conceded', 'Wickets', 'Best Bowling in Innings', 'Best Bowling in Match', 'Economy', 'Bowling Average', 'Bowling Strike Rate', 'Five Wickets in an Innings', 'Ten Wickets in an Match'], ['Test', '4', '7', '526', '299', '6', '3/89', '4/169', '3.41', '49.83', '87.67', '0', '0'], ['ODI', '1', '1', '60', '65', '1', '1/65', '1/65', '6.5', '65.0', '60.0', '0', '0'], ['T20I', '30', '30', '621', '750', '25', '3/22', '3/22', '7.25', '30.0', '24.84', '0', '0'], ['IPL', '42', '41', '750', '867', '27', '3/16', '3/16', '6.94', '32.11', '27.78', '0', '0']]}\n",
      "{'Name': 'Deepak Chahar', 'Batting': [['', 'Matches Played', 'No of Innings Batted', 'No of Not Outs', 'No of Runs Scored', 'Highest Score', 'Batting Average', 'No of Balls Faced', 'Batting Strike Rate', 'No of 100s Scored', 'No of 200s Scored', 'No of 50s Scored', 'No of fours hit', 'No of sixes hit'], ['ODI', '5', '3', '2', '87', '69', '87.0', '104', '83.65', '0', '0', '1', '8', '1'], ['T20I', '14', '4', '4', '1', '1', '0.0', '1', '100.0', '0', '0', '0', '0', '0'], ['IPL', '55', '11', '4', '78', '39', '11.14', '56', '139.29', '0', '0', '0', '2', '6']], 'Bowling': [['', 'Matches Played', 'No of Innings Bowled', 'No of Balls Bowled', 'No of Runs Conceded', 'Wickets', 'Best Bowling in Innings', 'Best Bowling in Match', 'Economy', 'Bowling Average', 'Bowling Strike Rate', 'Five Wickets in an Innings', 'Ten Wickets in an Match'], ['ODI', '5', '5', '216', '219', '6', '2/37', '2/37', '6.08', '36.5', '36.0', '0', '0'], ['T20I', '14', '14', '305', '386', '20', '6/7', '6/7', '7.59', '19.3', '15.25', '1', '0'], ['IPL', '55', '55', '1144', '1464', '53', '4/13', '4/13', '7.68', '27.62', '21.58', '0', '0']]}\n",
      "{'Name': 'T Natarajan', 'Batting': [['', 'Matches Played', 'No of Innings Batted', 'No of Not Outs', 'No of Runs Scored', 'Highest Score', 'Batting Average', 'No of Balls Faced', 'Batting Strike Rate', 'No of 100s Scored', 'No of 200s Scored', 'No of 50s Scored', 'No of fours hit', 'No of sixes hit'], ['Test', '1', '1', '1', '1', '1', '0.0', '9', '11.11', '0', '0', '0', '0', '0'], ['ODI', '2', '1', '1', '0', '0', '0.0', '0', '0.0', '0', '0', '0', '0', '0'], ['T20I', '4', '-', '-', '-', '-', '-', '-', '-', '-', '-', '-', '-', '-'], ['IPL', '24', '4', '4', '3', '3', '0.0', '5', '60.0', '0', '0', '0', '0', '0']], 'Bowling': [['', 'Matches Played', 'No of Innings Bowled', 'No of Balls Bowled', 'No of Runs Conceded', 'Wickets', 'Best Bowling in Innings', 'Best Bowling in Match', 'Economy', 'Bowling Average', 'Bowling Strike Rate', 'Five Wickets in an Innings', 'Ten Wickets in an Match'], ['Test', '1', '2', '230', '119', '3', '3/78', '3/119', '3.1', '39.67', '76.67', '0', '0'], ['ODI', '2', '2', '120', '143', '3', '2/70', '2/70', '7.15', '47.67', '40.0', '0', '0'], ['T20I', '4', '4', '96', '122', '7', '3/30', '3/30', '7.62', '17.43', '13.71', '0', '0'], ['IPL', '24', '24', '501', '688', '20', '2/24', '2/24', '8.24', '34.4', '25.05', '0', '0']]}\n",
      "{'Name': 'Varun Chakravarthy', 'Batting': [['', 'Matches Played', 'No of Innings Batted', 'No of Not Outs', 'No of Runs Scored', 'Highest Score', 'Batting Average', 'No of Balls Faced', 'Batting Strike Rate', 'No of 100s Scored', 'No of 200s Scored', 'No of 50s Scored', 'No of fours hit', 'No of sixes hit'], ['T20I', '3', '1', '0', '0', '0', '0.0', '2', '0.0', '0', '0', '0', '0', '0'], ['IPL', '21', '5', '2', '12', '7', '4.0', '19', '63.16', '0', '0', '0', '0', '0']], 'Bowling': [['', 'Matches Played', 'No of Innings Bowled', 'No of Balls Bowled', 'No of Runs Conceded', 'Wickets', 'Best Bowling in Innings', 'Best Bowling in Match', 'Economy', 'Bowling Average', 'Bowling Strike Rate', 'Five Wickets in an Innings', 'Ten Wickets in an Match'], ['T20I', '3', '3', '69', '61', '2', '1/18', '1/18', '5.3', '30.5', '34.5', '0', '0'], ['IPL', '21', '21', '498', '610', '25', '5/20', '5/20', '7.35', '24.4', '19.92', '1', '0']]}\n",
      "{'Name': 'Rahul Chahar', 'Batting': [['', 'Matches Played', 'No of Innings Batted', 'No of Not Outs', 'No of Runs Scored', 'Highest Score', 'Batting Average', 'No of Balls Faced', 'Batting Strike Rate', 'No of 100s Scored', 'No of 200s Scored', 'No of 50s Scored', 'No of fours hit', 'No of sixes hit'], ['ODI', '1', '1', '0', '13', '13', '13.0', '25', '52.0', '0', '0', '0', '0', '0'], ['T20I', '5', '1', '0', '5', '5', '5.0', '5', '100.0', '0', '0', '0', '1', '0'], ['IPL', '38', '9', '4', '31', '10', '6.2', '30', '103.33', '0', '0', '0', '3', '0']], 'Bowling': [['', 'Matches Played', 'No of Innings Bowled', 'No of Balls Bowled', 'No of Runs Conceded', 'Wickets', 'Best Bowling in Innings', 'Best Bowling in Match', 'Economy', 'Bowling Average', 'Bowling Strike Rate', 'Five Wickets in an Innings', 'Ten Wickets in an Match'], ['ODI', '1', '1', '60', '54', '3', '3/54', '3/54', '5.4', '18.0', '20.0', '0', '0'], ['T20I', '5', '5', '108', '137', '7', '3/15', '3/15', '7.61', '19.57', '15.43', '0', '0'], ['IPL', '38', '37', '810', '1001', '41', '4/27', '4/27', '7.41', '24.41', '19.76', '0', '0']]}\n"
     ]
    }
   ],
   "source": [
    "for link in playerLinks:\n",
    "    player = getPlayerStats(link)\n",
    "    dumpCSV(player)"
   ]
  }
 ],
 "metadata": {
  "kernelspec": {
   "display_name": "Python 3",
   "language": "python",
   "name": "python3"
  },
  "language_info": {
   "codemirror_mode": {
    "name": "ipython",
    "version": 3
   },
   "file_extension": ".py",
   "mimetype": "text/x-python",
   "name": "python",
   "nbconvert_exporter": "python",
   "pygments_lexer": "ipython3",
   "version": "3.9.6"
  }
 },
 "nbformat": 4,
 "nbformat_minor": 5
}
